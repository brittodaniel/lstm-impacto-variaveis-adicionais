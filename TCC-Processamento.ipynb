{
 "cells": [
  {
   "cell_type": "code",
   "execution_count": 1,
   "id": "cd95c603",
   "metadata": {},
   "outputs": [
    {
     "name": "stdout",
     "output_type": "stream",
     "text": [
      "       SNo     Name Symbol       Date          High           Low  \\\n",
      "0        1  Bitcoin    BTC 2013-04-29    147.488007    134.000000   \n",
      "1        2  Bitcoin    BTC 2013-04-30    146.929993    134.050003   \n",
      "2        3  Bitcoin    BTC 2013-05-01    139.889999    107.720001   \n",
      "3        4  Bitcoin    BTC 2013-05-02    125.599998     92.281898   \n",
      "4        5  Bitcoin    BTC 2013-05-03    108.127998     79.099998   \n",
      "...    ...      ...    ...        ...           ...           ...   \n",
      "2986  2987  Bitcoin    BTC 2021-07-02  33939.588699  32770.680780   \n",
      "2987  2988  Bitcoin    BTC 2021-07-03  34909.259899  33402.696536   \n",
      "2988  2989  Bitcoin    BTC 2021-07-04  35937.567147  34396.477458   \n",
      "2989  2990  Bitcoin    BTC 2021-07-05  35284.344430  33213.661034   \n",
      "2990  2991  Bitcoin    BTC 2021-07-06  35038.536363  33599.916169   \n",
      "\n",
      "              Open         Close        Volume     Marketcap  \n",
      "0       134.444000    144.539993  0.000000e+00  1.603769e+09  \n",
      "1       144.000000    139.000000  0.000000e+00  1.542813e+09  \n",
      "2       139.000000    116.989998  0.000000e+00  1.298955e+09  \n",
      "3       116.379997    105.209999  0.000000e+00  1.168517e+09  \n",
      "4       106.250000     97.750000  0.000000e+00  1.085995e+09  \n",
      "...            ...           ...           ...           ...  \n",
      "2986  33549.600177  33897.048590  3.872897e+10  6.354508e+11  \n",
      "2987  33854.421362  34668.548402  2.438396e+10  6.499397e+11  \n",
      "2988  34665.564866  35287.779766  2.492431e+10  6.615748e+11  \n",
      "2989  35284.344430  33746.002456  2.672155e+10  6.326962e+11  \n",
      "2990  33723.509655  34235.193451  2.650126e+10  6.418992e+11  \n",
      "\n",
      "[2991 rows x 10 columns]\n"
     ]
    }
   ],
   "source": [
    "import pandas as pd\n",
    "\n",
    "# carregar e formatar kaggle_bitcoin_historical\n",
    "df_prices = pd.read_csv('kaggle_bitcoin_historical.csv')\n",
    "\n",
    "df_prices['Date'] = pd.to_datetime(df_prices['Date'])\n",
    "df_prices['Date'] = df_prices['Date'].dt.date\n",
    "df_prices['Date'] = pd.to_datetime(df_prices['Date'])\n",
    "\n",
    "print(df_prices)"
   ]
  },
  {
   "cell_type": "code",
   "execution_count": 2,
   "id": "ced794b4",
   "metadata": {},
   "outputs": [
    {
     "name": "stdout",
     "output_type": "stream",
     "text": [
      "           Date     Value\n",
      "0    2021-07-19  552678.0\n",
      "1    2021-07-18  422214.0\n",
      "2    2021-07-17  458821.0\n",
      "3    2021-07-16  552751.0\n",
      "4    2021-07-15  572802.0\n",
      "...         ...       ...\n",
      "4577 2009-01-06       0.0\n",
      "4578 2009-01-05       0.0\n",
      "4579 2009-01-04       0.0\n",
      "4580 2009-01-03       0.0\n",
      "4581 2009-01-02       1.0\n",
      "\n",
      "[4582 rows x 2 columns]\n",
      "----------------------------------\n",
      "           Date     Price_USD        Volume     Marketcap  Unique_Addresses\n",
      "0    2013-04-29    134.444000  0.000000e+00  1.603769e+09           73560.0\n",
      "1    2013-04-30    144.000000  0.000000e+00  1.542813e+09           61672.0\n",
      "2    2013-05-01    139.000000  0.000000e+00  1.298955e+09           67744.0\n",
      "3    2013-05-02    116.379997  0.000000e+00  1.168517e+09           65415.0\n",
      "4    2013-05-03    106.250000  0.000000e+00  1.085995e+09           56115.0\n",
      "...         ...           ...           ...           ...               ...\n",
      "2986 2021-07-02  33549.600177  3.872897e+10  6.354508e+11          532456.0\n",
      "2987 2021-07-03  33854.421362  2.438396e+10  6.499397e+11          583136.0\n",
      "2988 2021-07-04  34665.564866  2.492431e+10  6.615748e+11          467442.0\n",
      "2989 2021-07-05  35284.344430  2.672155e+10  6.326962e+11          547735.0\n",
      "2990 2021-07-06  33723.509655  2.650126e+10  6.418992e+11          579824.0\n",
      "\n",
      "[2991 rows x 5 columns]\n"
     ]
    }
   ],
   "source": [
    "# carregar e formatar quandl_bitcoin_unique_addresses_used\n",
    "df_addresses = pd.read_csv('quandl_bitcoin_unique_addresses_used.csv')\n",
    "df_addresses['Date'] = pd.to_datetime(df_addresses['Date'])\n",
    "print(df_addresses)\n",
    "print('----------------------------------')\n",
    "\n",
    "# merge dos dois datasets\n",
    "df_unificado = df_prices.merge(df_addresses, how='left', on='Date')\n",
    "\n",
    "# remover colunas que não serão utilizadas\n",
    "df_unificado.drop('Name', axis=1, inplace=True)\n",
    "df_unificado.drop('SNo', axis=1, inplace=True)\n",
    "df_unificado.drop('Symbol', axis=1, inplace=True)\n",
    "df_unificado.drop('High', axis=1, inplace=True)\n",
    "df_unificado.drop('Low', axis=1, inplace=True)\n",
    "df_unificado.drop('Close', axis=1, inplace=True)\n",
    "\n",
    "df_unificado.rename(columns={'Open':'Price_USD', \n",
    "                             'Value': 'Unique_Addresses'}, inplace=True)\n",
    "\n",
    "print(df_unificado)"
   ]
  },
  {
   "cell_type": "code",
   "execution_count": 3,
   "id": "5a6c34f9",
   "metadata": {},
   "outputs": [],
   "source": [
    "# carregar e formatar quandl_bitcoin_number_of_transactions\n",
    "df_transactions = pd.read_csv('quandl_bitcoin_number_of_transactions.csv')\n",
    "df_transactions['Date'] = pd.to_datetime(df_transactions['Date'])\n",
    "\n",
    "# merge dos dois datasets\n",
    "df_unificado = df_unificado.merge(df_transactions, how='left', on='Date')\n",
    "\n",
    "# renomear coluna Value para um nome mais significativo\n",
    "df_unificado.rename(columns={'Value': 'Transactions'}, inplace=True)"
   ]
  },
  {
   "cell_type": "code",
   "execution_count": 4,
   "id": "a3e8dbbb",
   "metadata": {},
   "outputs": [],
   "source": [
    "# carregar e formatar quandl_bitcoin_difficulty\n",
    "df_difficulty = pd.read_csv('quandl_bitcoin_difficulty.csv')\n",
    "df_difficulty['Date'] = pd.to_datetime(df_difficulty['Date'])\n",
    "\n",
    "# merge dos dois datasets\n",
    "df_unificado = df_unificado.merge(df_difficulty, how='left', on='Date')\n",
    "\n",
    "# renomear coluna Value para um nome mais significativo\n",
    "df_unificado.rename(columns={'Value': 'Difficulty'}, inplace=True)"
   ]
  },
  {
   "cell_type": "code",
   "execution_count": 5,
   "id": "1434338e",
   "metadata": {},
   "outputs": [],
   "source": [
    "# carregar e formatar quandl_bitcoin_total_bitcoins\n",
    "df_totalbitcoins = pd.read_csv('quandl_bitcoin_total_bitcoins.csv')\n",
    "df_totalbitcoins['Date'] = pd.to_datetime(df_totalbitcoins['Date'])\n",
    "\n",
    "# merge dos dois datasets\n",
    "df_unificado = df_unificado.merge(df_totalbitcoins, how='left', on='Date')\n",
    "\n",
    "# renomear coluna Value para um nome mais significativo\n",
    "df_unificado.rename(columns={'Value': 'Total_Bitcoins'}, inplace=True)"
   ]
  },
  {
   "cell_type": "code",
   "execution_count": 6,
   "id": "390636f8",
   "metadata": {},
   "outputs": [
    {
     "name": "stdout",
     "output_type": "stream",
     "text": [
      "           Date     Price_USD        Volume     Marketcap  Unique_Addresses  \\\n",
      "0    2013-04-29    134.444000  0.000000e+00  1.603769e+09           73560.0   \n",
      "1    2013-04-30    144.000000  0.000000e+00  1.542813e+09           61672.0   \n",
      "2    2013-05-01    139.000000  0.000000e+00  1.298955e+09           67744.0   \n",
      "3    2013-05-02    116.379997  0.000000e+00  1.168517e+09           65415.0   \n",
      "4    2013-05-03    106.250000  0.000000e+00  1.085995e+09           56115.0   \n",
      "...         ...           ...           ...           ...               ...   \n",
      "2986 2021-07-02  33549.600177  3.872897e+10  6.354508e+11          532456.0   \n",
      "2987 2021-07-03  33854.421362  2.438396e+10  6.499397e+11          583136.0   \n",
      "2988 2021-07-04  34665.564866  2.492431e+10  6.615748e+11          467442.0   \n",
      "2989 2021-07-05  35284.344430  2.672155e+10  6.326962e+11          547735.0   \n",
      "2990 2021-07-06  33723.509655  2.650126e+10  6.418992e+11          579824.0   \n",
      "\n",
      "      Transactions    Difficulty  Total_Bitcoins  \n",
      "0          51776.0  1.007629e+07     11098475.00  \n",
      "1          50437.0  1.007629e+07     11098275.00  \n",
      "2          57278.0  1.007629e+07     11105600.00  \n",
      "3          55429.0  1.007629e+07     11109275.00  \n",
      "4          48349.0  1.007629e+07     11109450.00  \n",
      "...            ...           ...             ...  \n",
      "2986      188568.0  1.993279e+13     18746512.50  \n",
      "2987      237463.0  1.563486e+13     18747300.00  \n",
      "2988      171850.0  1.436303e+13     18748031.25  \n",
      "2989      223760.0  1.436303e+13     18748831.25  \n",
      "2990      228279.0  1.436303e+13     18749743.75  \n",
      "\n",
      "[2991 rows x 8 columns]\n"
     ]
    }
   ],
   "source": [
    "# verificar situação do df_unificado\n",
    "print(df_unificado)"
   ]
  },
  {
   "cell_type": "code",
   "execution_count": 7,
   "id": "b34151ec",
   "metadata": {},
   "outputs": [
    {
     "data": {
      "text/plain": [
       "Date                0\n",
       "Price_USD           0\n",
       "Volume              0\n",
       "Marketcap           0\n",
       "Unique_Addresses    0\n",
       "Transactions        0\n",
       "Difficulty          0\n",
       "Total_Bitcoins      0\n",
       "dtype: int64"
      ]
     },
     "execution_count": 7,
     "metadata": {},
     "output_type": "execute_result"
    }
   ],
   "source": [
    "# verificar se há registros nulos\n",
    "df_unificado.isnull().sum()"
   ]
  },
  {
   "cell_type": "code",
   "execution_count": 8,
   "id": "37fed888",
   "metadata": {},
   "outputs": [
    {
     "data": {
      "text/plain": [
       "Date                  0\n",
       "Price_USD             0\n",
       "Volume              242\n",
       "Marketcap             0\n",
       "Unique_Addresses      0\n",
       "Transactions          0\n",
       "Difficulty            0\n",
       "Total_Bitcoins        0\n",
       "dtype: int64"
      ]
     },
     "execution_count": 8,
     "metadata": {},
     "output_type": "execute_result"
    }
   ],
   "source": [
    "# verificar se há registros zerados\n",
    "(df_unificado==0).sum(axis=0)"
   ]
  },
  {
   "cell_type": "code",
   "execution_count": 9,
   "id": "a8f70d34",
   "metadata": {},
   "outputs": [
    {
     "name": "stdout",
     "output_type": "stream",
     "text": [
      "          Date  Volume\n",
      "0   2013-04-29     0.0\n",
      "1   2013-04-30     0.0\n",
      "2   2013-05-01     0.0\n",
      "3   2013-05-02     0.0\n",
      "4   2013-05-03     0.0\n",
      "..         ...     ...\n",
      "237 2013-12-22     0.0\n",
      "238 2013-12-23     0.0\n",
      "239 2013-12-24     0.0\n",
      "240 2013-12-25     0.0\n",
      "241 2013-12-26     0.0\n",
      "\n",
      "[242 rows x 2 columns]\n"
     ]
    }
   ],
   "source": [
    "# filtrar quais datas possuem Volume zerado\n",
    "df_volume_zerado = df_unificado[['Date', 'Volume']]\n",
    "mask = (df_volume_zerado['Volume']==0)\n",
    "df_volume_zerado = df_volume_zerado.loc[mask]\n",
    "print(df_volume_zerado)"
   ]
  },
  {
   "cell_type": "code",
   "execution_count": 10,
   "id": "f58d9a35",
   "metadata": {},
   "outputs": [],
   "source": [
    "# remover datas de 2013 com volume zerado\n",
    "df_unificado.drop(index=df_unificado.index[:242], axis=0, inplace=True)"
   ]
  },
  {
   "cell_type": "code",
   "execution_count": 11,
   "id": "df7ce2b2",
   "metadata": {},
   "outputs": [
    {
     "data": {
      "text/plain": [
       "True"
      ]
     },
     "execution_count": 11,
     "metadata": {},
     "output_type": "execute_result"
    }
   ],
   "source": [
    "# verificar se há registros duplicados na coluna Date\n",
    "df_unificado['Date'].is_unique"
   ]
  },
  {
   "cell_type": "code",
   "execution_count": 12,
   "id": "2204b842",
   "metadata": {},
   "outputs": [
    {
     "name": "stdout",
     "output_type": "stream",
     "text": [
      "           Date     Price_USD        Volume     Marketcap  Unique_Addresses  \\\n",
      "242  2013-12-27    763.280029  4.686270e+07  8.955395e+09           95474.0   \n",
      "243  2013-12-28    737.979980  3.250580e+07  8.869919e+09           93084.0   \n",
      "244  2013-12-29    728.049988  1.901130e+07  9.082104e+09           94132.0   \n",
      "245  2013-12-30    741.349976  2.070770e+07  9.217168e+09          108166.0   \n",
      "246  2013-12-31    760.320007  2.089730e+07  9.191325e+09           83356.0   \n",
      "...         ...           ...           ...           ...               ...   \n",
      "2986 2021-07-02  33549.600177  3.872897e+10  6.354508e+11          532456.0   \n",
      "2987 2021-07-03  33854.421362  2.438396e+10  6.499397e+11          583136.0   \n",
      "2988 2021-07-04  34665.564866  2.492431e+10  6.615748e+11          467442.0   \n",
      "2989 2021-07-05  35284.344430  2.672155e+10  6.326962e+11          547735.0   \n",
      "2990 2021-07-06  33723.509655  2.650126e+10  6.418992e+11          579824.0   \n",
      "\n",
      "      Transactions    Difficulty  Total_Bitcoins  \n",
      "242        47777.0  1.180923e+09     12185975.00  \n",
      "243        48009.0  1.180923e+09     12189725.00  \n",
      "244        56501.0  1.180923e+09     12189000.00  \n",
      "245        52382.0  1.180923e+09     12198800.00  \n",
      "246        48847.0  1.180923e+09     12203800.00  \n",
      "...            ...           ...             ...  \n",
      "2986      188568.0  1.993279e+13     18746512.50  \n",
      "2987      237463.0  1.563486e+13     18747300.00  \n",
      "2988      171850.0  1.436303e+13     18748031.25  \n",
      "2989      223760.0  1.436303e+13     18748831.25  \n",
      "2990      228279.0  1.436303e+13     18749743.75  \n",
      "\n",
      "[2749 rows x 8 columns]\n"
     ]
    }
   ],
   "source": [
    "# verificação final da situação do df_unificado\n",
    "print(df_unificado)"
   ]
  },
  {
   "cell_type": "code",
   "execution_count": 14,
   "id": "a9ad7a30",
   "metadata": {},
   "outputs": [],
   "source": [
    "# salvar o df_unificado como um arquivo csv\n",
    "df_unificado.to_csv('df_unificado.csv', index=False)"
   ]
  }
 ],
 "metadata": {
  "kernelspec": {
   "display_name": "Python 3",
   "language": "python",
   "name": "python3"
  },
  "language_info": {
   "codemirror_mode": {
    "name": "ipython",
    "version": 3
   },
   "file_extension": ".py",
   "mimetype": "text/x-python",
   "name": "python",
   "nbconvert_exporter": "python",
   "pygments_lexer": "ipython3",
   "version": "3.8.8"
  }
 },
 "nbformat": 4,
 "nbformat_minor": 5
}
